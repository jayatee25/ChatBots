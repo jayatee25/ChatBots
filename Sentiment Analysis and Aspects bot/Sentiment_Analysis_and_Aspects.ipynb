{
  "nbformat": 4,
  "nbformat_minor": 0,
  "metadata": {
    "colab": {
      "provenance": []
    },
    "kernelspec": {
      "name": "python3",
      "display_name": "Python 3"
    },
    "language_info": {
      "name": "python"
    }
  },
  "cells": [
    {
      "cell_type": "code",
      "execution_count": null,
      "metadata": {
        "id": "x4UfJQyDPRNM"
      },
      "outputs": [],
      "source": [
        "! pip install openai"
      ]
    },
    {
      "cell_type": "code",
      "source": [
        "! pip install langchain\n",
        "! pip install langchain_community"
      ],
      "metadata": {
        "id": "w07nBm99Temo"
      },
      "execution_count": null,
      "outputs": []
    },
    {
      "cell_type": "code",
      "source": [
        "import openai\n",
        "import langchain\n",
        "from langchain.llms import OpenAI\n",
        "import os"
      ],
      "metadata": {
        "id": "5mmXkzQ_UDjo"
      },
      "execution_count": null,
      "outputs": []
    },
    {
      "cell_type": "code",
      "source": [
        "openai.api_key = '<openai-api-key>'"
      ],
      "metadata": {
        "id": "Z4CKWnKvTjJr"
      },
      "execution_count": null,
      "outputs": []
    },
    {
      "cell_type": "code",
      "source": [
        "rev = open(\"reviews a little life.txt\", \"r\")\n",
        "\n",
        "text = rev.read()\n",
        "\n",
        "print(text)"
      ],
      "metadata": {
        "colab": {
          "base_uri": "https://localhost:8080/"
        },
        "id": "jOdHV0qzYRy2",
        "outputId": "9859bb66-dad8-4329-dfba-d49b472f66ac"
      },
      "execution_count": null,
      "outputs": [
        {
          "output_type": "stream",
          "name": "stdout",
          "text": [
            "A great read, and impeccable storytelling. Would not mind losing my memory, just so I could read it again. 10/10 would recommend. Arrived in great condition.\n",
            "For starters this book might look heavy, exaggerated, you would feel demotivated coz 720 pages. With every 100 pages of this book I've cried and thought what could go wrong than this but was proven wrong. This book is important for people to understand how to be emphathetic towards others. To never judge people for their actions and their background. Trigger warning : its overwhelming with self harm scenes, abuse and what not. I cried everyday reading it but it's the best I've read so far.\n",
            "I purchased this for 349...biggest mistake I made. The cover is good but when I opened the book it was terrible. First of all the fonts are too small eyes will strain badly. And the quality of paper is very poor...yellowish thin paper with super small fonts. The price should have been 150 for this quality book.\n",
            "One of the best books I’ve ever read. You get connected with the characters so much and actually feel like you’re witnessing the story in real life. I’ve never cried so much in my entire life. Loved it\n",
            "There's missing pages in between. Almost 10 pages have been missing. Utterly disappointed!\n",
            "A dirty outer page of the book!! Very disappointing\n",
            "The amount of trauma dump this book has is something I simply cannot comprehend. It’s clearly One of THE most devastating books I have ever come across and is incredibly well written.\n",
            "This book is a lot and I strongly recommend looking up content warnings before starting and making sure you're in the right headspace for it.\n",
            "\"A Little Life\" is a deeply affecting and ambitious work that has garnered both critical acclaim and divided opinions. If you're looking for a challenging and emotionally intense read that explores the complexities of human relationships and the enduring impact of trauma, this book might be worth considering. However, be prepared for its emotionally taxing nature and potentially triggering content. You will either love it or hate it, there is no midway about it.\n",
            "I read this book because it claims to be a masterpiece but i find it a little overstretched and repetitive. It was kind of predictable and the whole story revolves around Jude and Jude's tragedy. After over 85% i just skimmed and finished it.\n"
          ]
        }
      ]
    },
    {
      "cell_type": "code",
      "source": [
        "def sentiment_analysis_by_bot(text_analysis):\n",
        "  completion = openai.completions.create(\n",
        "      model = 'gpt-3.5-turbo-instruct',\n",
        "      prompt = (f'Sentiment analysis: {text_analysis}'),\n",
        "      max_tokens = 5,\n",
        "      temperature = 0.5\n",
        "  )\n",
        "\n",
        "  return completion.choices[0].text.strip()"
      ],
      "metadata": {
        "id": "Vc-4EmO5ZiCn"
      },
      "execution_count": null,
      "outputs": []
    },
    {
      "cell_type": "code",
      "source": [
        "def aspect_analysis_by_bot(text_analysis):\n",
        "  completion = openai.completions.create(\n",
        "      model = 'gpt-3.5-turbo-instruct',\n",
        "      prompt = (f'Aspects analysis: {text_analysis}'),\n",
        "      max_tokens = 10,\n",
        "      temperature = 0.5\n",
        "  )\n",
        "\n",
        "  return completion.choices[0].text.strip()"
      ],
      "metadata": {
        "id": "VtZUZwTMb2Jj"
      },
      "execution_count": null,
      "outputs": []
    },
    {
      "cell_type": "code",
      "source": [
        "with open(\"reviews a little life.txt\", \"r\") as f:\n",
        "  for index, review in enumerate(f):\n",
        "    sentiment = sentiment_analysis_by_bot(review)\n",
        "    aspect = aspect_analysis_by_bot(review)\n",
        "    print(f\"Review {index+1} is as follows: \")\n",
        "    print(f\"Sentiment: {sentiment}\")\n",
        "    print(f\"\\n\")\n",
        "    print(f\"Aspects: {aspect}\")\n",
        "    print(f\"\\n\\n\")"
      ],
      "metadata": {
        "colab": {
          "base_uri": "https://localhost:8080/"
        },
        "id": "gnbcW9P8gs52",
        "outputId": "95915edd-a8c3-485a-ca88-4241932c51b0"
      },
      "execution_count": null,
      "outputs": [
        {
          "output_type": "stream",
          "name": "stdout",
          "text": [
            "Review 1 is as follows: \n",
            "Positive sentiment.\n",
            "\n",
            "\n",
            "This review is overwhelmingly positive and highlights the storytelling\n",
            "\n",
            "\n",
            "\n",
            "Review 2 is as follows: \n",
            "Overall, the sentiment\n",
            "\n",
            "\n",
            "The review provides a brief overview of the book\n",
            "\n",
            "\n",
            "\n",
            "Review 3 is as follows: \n",
            "Negative\n",
            "\n",
            "\n",
            "1. Price: The reviewer mentions that they\n",
            "\n",
            "\n",
            "\n",
            "Review 4 is as follows: \n",
            "Overall sentiment: Positive\n",
            "\n",
            "\n",
            "Positive: \n",
            "1. Engaging characters:\n",
            "\n",
            "\n",
            "\n",
            "Review 5 is as follows: \n",
            "Negative\n",
            "\n",
            "\n",
            "Possible aspects to consider in this analysis:\n",
            "\n",
            "1\n",
            "\n",
            "\n",
            "\n",
            "Review 6 is as follows: \n",
            "Negative\n",
            "Sentiment analysis\n",
            "\n",
            "\n",
            "1. Hygiene: The mention of a\n",
            "\n",
            "\n",
            "\n",
            "Review 7 is as follows: \n",
            "Positive\n",
            "\n",
            "\n",
            "The aspect of trauma in this book is a\n",
            "\n",
            "\n",
            "\n",
            "Review 8 is as follows: \n",
            "Neutral/Concerned\n",
            "\n",
            "\n",
            "1. Dark and Disturbing Themes:\n",
            "\n",
            "\n",
            "\n",
            "Review 9 is as follows: \n",
            "Positive\n",
            "\n",
            "\n",
            "- Genre: \"A Little Life\" falls\n",
            "\n",
            "\n",
            "\n",
            "Review 10 is as follows: \n",
            "Negative\n",
            "\n",
            "\n",
            "1. Writing style: The writing style of\n",
            "\n",
            "\n",
            "\n"
          ]
        }
      ]
    },
    {
      "cell_type": "code",
      "source": [
        "with open(\"reviews a little life.txt\", \"r\") as f:\n",
        "  with open(\"output.txt\", \"w\") as op:\n",
        "    for index, review in enumerate(f):\n",
        "      sentiment = sentiment_analysis_by_bot(review)\n",
        "      aspect = aspect_analysis_by_bot(review)\n",
        "      op.write(f\"Review {index+1} is as follows: \")\n",
        "      op.write(f\"Sentiment: {sentiment}\")\n",
        "      op.write(f\"\\n\")\n",
        "      op.write(f\"Aspects: {aspect}\")\n",
        "      op.write(f\"\\n\\n\")"
      ],
      "metadata": {
        "id": "fdn6FjwtZXc1"
      },
      "execution_count": null,
      "outputs": []
    }
  ]
}